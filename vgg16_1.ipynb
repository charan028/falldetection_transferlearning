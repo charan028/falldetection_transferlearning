{
 "cells": [
  {
   "cell_type": "code",
   "execution_count": 11,
   "metadata": {},
   "outputs": [],
   "source": [
    "import os\n",
    "import numpy as np\n",
    "import matplotlib.pyplot as plt\n",
    "import torch\n",
    "import torch.nn as nn\n",
    "import torch.nn.functional as F\n",
    "import torch.optim as optim\n",
    "from torchvision import models, datasets, transforms\n",
    "from sklearn.model_selection import KFold\n",
    "from torch.utils.data import DataLoader\n",
    "import torchvision\n",
    "import torchvision\n",
    "from torchvision import transforms\n"
   ]
  },
  {
   "cell_type": "code",
   "execution_count": 12,
   "metadata": {},
   "outputs": [],
   "source": [
    "data_dir = r'C:\\Users\\merug\\Downloads\\fall_detection\\fall_detection_data'\n",
    "batch_size = 32\n",
    "\n",
    "transform = transforms.Compose([\n",
    "    transforms.Resize(256),\n",
    "    transforms.CenterCrop(224),\n",
    "    transforms.ToTensor(), # convert 1 to 3 channels\n",
    "    transforms.Normalize(mean=[0.485, 0.456, 0.406], std=[0.229, 0.224, 0.225])\n",
    "])\n",
    "\n",
    "# Train dataset and dataloader\n",
    "train_dataset = torchvision.datasets.ImageFolder(f'{data_dir}/train', transform=transform)\n",
    "\n",
    "train_dataloader = torch.utils.data.DataLoader(train_dataset, batch_size=batch_size, shuffle=True)\n",
    "\n",
    "train_sizes = len(train_dataset)\n",
    "class_names = train_dataset.classes\n",
    "\n",
    "# Validation dataset and dataloader\n",
    "val_dataset = torchvision.datasets.ImageFolder(f'{data_dir}/val', transform)\n",
    "\n",
    "val_dataloader = torch.utils.data.DataLoader(val_dataset, batch_size=batch_size)\n",
    "\n",
    "val_sizes = len(val_dataset)"
   ]
  },
  {
   "cell_type": "code",
   "execution_count": 13,
   "metadata": {},
   "outputs": [],
   "source": [
    "# Test dataset and dataloader\n",
    "test_dataset = datasets.ImageFolder(f'{data_dir}/test', transform)\n",
    "\n",
    "test_dataloader = torch.utils.data.DataLoader(test_dataset, batch_size=batch_size)\n",
    "\n",
    "test_sizes = len(test_dataset)"
   ]
  },
  {
   "cell_type": "code",
   "execution_count": 14,
   "metadata": {},
   "outputs": [],
   "source": [
    "# Model definition using VGG16 (with fine-tuning)\n",
    "class VGG16Net(nn.Module):\n",
    "    def __init__(self, out_features=2):\n",
    "        super(VGG16Net, self).__init__()\n",
    "        vgg16 = models.vgg16(pretrained=True)\n",
    "        # Fine-tuning by freezing layers except the classifier\n",
    "        for param in vgg16.features.parameters():\n",
    "            param.requires_grad = False\n",
    "\n",
    "        # Modify the classifier for the fall detection task\n",
    "        in_features = vgg16.classifier[6].in_features  # Extract in_features of the original classifier\n",
    "        vgg16.classifier[6] = nn.Linear(in_features, out_features)  # Replace with new classifier\n",
    "        self.vgg16 = vgg16\n",
    "\n",
    "    def forward(self, x):\n",
    "        return self.vgg16(x)\n"
   ]
  },
  {
   "cell_type": "code",
   "execution_count": 15,
   "metadata": {},
   "outputs": [
    {
     "data": {
      "text/plain": [
       "VGG16Net(\n",
       "  (vgg16): VGG(\n",
       "    (features): Sequential(\n",
       "      (0): Conv2d(3, 64, kernel_size=(3, 3), stride=(1, 1), padding=(1, 1))\n",
       "      (1): ReLU(inplace=True)\n",
       "      (2): Conv2d(64, 64, kernel_size=(3, 3), stride=(1, 1), padding=(1, 1))\n",
       "      (3): ReLU(inplace=True)\n",
       "      (4): MaxPool2d(kernel_size=2, stride=2, padding=0, dilation=1, ceil_mode=False)\n",
       "      (5): Conv2d(64, 128, kernel_size=(3, 3), stride=(1, 1), padding=(1, 1))\n",
       "      (6): ReLU(inplace=True)\n",
       "      (7): Conv2d(128, 128, kernel_size=(3, 3), stride=(1, 1), padding=(1, 1))\n",
       "      (8): ReLU(inplace=True)\n",
       "      (9): MaxPool2d(kernel_size=2, stride=2, padding=0, dilation=1, ceil_mode=False)\n",
       "      (10): Conv2d(128, 256, kernel_size=(3, 3), stride=(1, 1), padding=(1, 1))\n",
       "      (11): ReLU(inplace=True)\n",
       "      (12): Conv2d(256, 256, kernel_size=(3, 3), stride=(1, 1), padding=(1, 1))\n",
       "      (13): ReLU(inplace=True)\n",
       "      (14): Conv2d(256, 256, kernel_size=(3, 3), stride=(1, 1), padding=(1, 1))\n",
       "      (15): ReLU(inplace=True)\n",
       "      (16): MaxPool2d(kernel_size=2, stride=2, padding=0, dilation=1, ceil_mode=False)\n",
       "      (17): Conv2d(256, 512, kernel_size=(3, 3), stride=(1, 1), padding=(1, 1))\n",
       "      (18): ReLU(inplace=True)\n",
       "      (19): Conv2d(512, 512, kernel_size=(3, 3), stride=(1, 1), padding=(1, 1))\n",
       "      (20): ReLU(inplace=True)\n",
       "      (21): Conv2d(512, 512, kernel_size=(3, 3), stride=(1, 1), padding=(1, 1))\n",
       "      (22): ReLU(inplace=True)\n",
       "      (23): MaxPool2d(kernel_size=2, stride=2, padding=0, dilation=1, ceil_mode=False)\n",
       "      (24): Conv2d(512, 512, kernel_size=(3, 3), stride=(1, 1), padding=(1, 1))\n",
       "      (25): ReLU(inplace=True)\n",
       "      (26): Conv2d(512, 512, kernel_size=(3, 3), stride=(1, 1), padding=(1, 1))\n",
       "      (27): ReLU(inplace=True)\n",
       "      (28): Conv2d(512, 512, kernel_size=(3, 3), stride=(1, 1), padding=(1, 1))\n",
       "      (29): ReLU(inplace=True)\n",
       "      (30): MaxPool2d(kernel_size=2, stride=2, padding=0, dilation=1, ceil_mode=False)\n",
       "    )\n",
       "    (avgpool): AdaptiveAvgPool2d(output_size=(7, 7))\n",
       "    (classifier): Sequential(\n",
       "      (0): Linear(in_features=25088, out_features=4096, bias=True)\n",
       "      (1): ReLU(inplace=True)\n",
       "      (2): Dropout(p=0.5, inplace=False)\n",
       "      (3): Linear(in_features=4096, out_features=4096, bias=True)\n",
       "      (4): ReLU(inplace=True)\n",
       "      (5): Dropout(p=0.5, inplace=False)\n",
       "      (6): Linear(in_features=4096, out_features=2, bias=True)\n",
       "    )\n",
       "  )\n",
       ")"
      ]
     },
     "execution_count": 15,
     "metadata": {},
     "output_type": "execute_result"
    }
   ],
   "source": [
    "# Initialize the VGG16 model\n",
    "model = VGG16Net(out_features=2)\n",
    "\n",
    "# Move model to GPU if available\n",
    "device = torch.device(\"cuda\" if torch.cuda.is_available() else \"cpu\")\n",
    "model.to(device)"
   ]
  },
  {
   "cell_type": "code",
   "execution_count": 16,
   "metadata": {},
   "outputs": [],
   "source": [
    "# Define loss function and optimizer\n",
    "criterion = nn.CrossEntropyLoss()\n",
    "optimizer = optim.SGD(model.vgg16.classifier.parameters(), lr=0.001, momentum=0.9)\n"
   ]
  },
  {
   "cell_type": "code",
   "execution_count": 17,
   "metadata": {},
   "outputs": [],
   "source": [
    "# Training function\n",
    "def train(model, optimizer, loss_fn, train_loader, val_loader, start_epoch=0, epochs=20, device=\"cpu\"):\n",
    "    model.to(device)\n",
    "    train_losses = []\n",
    "    val_losses = []\n",
    "    accuracies = []\n",
    "    \n",
    "    for epoch in range(start_epoch, start_epoch + epochs):\n",
    "        training_loss = 0.0\n",
    "        valid_loss = 0.0\n",
    "        model.train()\n",
    "\n",
    "        # Training phase\n",
    "        for batch in train_loader:\n",
    "            optimizer.zero_grad()\n",
    "            inputs, targets = batch\n",
    "            inputs = inputs.to(device)\n",
    "            targets = targets.to(device)\n",
    "            output = model(inputs)\n",
    "            loss = loss_fn(output, targets)\n",
    "            loss.backward()\n",
    "            optimizer.step()\n",
    "            training_loss += loss.data.item() * inputs.size(0)\n",
    "        training_loss /= len(train_loader.dataset)\n",
    "        train_losses.append(training_loss)\n",
    "\n",
    "        # Validation phase\n",
    "        model.eval()\n",
    "        num_correct = 0\n",
    "        num_examples = 0\n",
    "        with torch.no_grad():\n",
    "            for batch in val_loader:\n",
    "                inputs, targets = batch\n",
    "                inputs = inputs.to(device)\n",
    "                targets = targets.to(device)\n",
    "                output = model(inputs)\n",
    "                loss = loss_fn(output, targets)\n",
    "                valid_loss += loss.data.item() * inputs.size(0)\n",
    "                correct = torch.eq(torch.max(F.softmax(output, dim=1), dim=1)[1], targets).view(-1)\n",
    "                num_correct += torch.sum(correct).item()\n",
    "                num_examples += correct.shape[0]\n",
    "        valid_loss /= len(val_loader.dataset)\n",
    "        val_losses.append(valid_loss)\n",
    "\n",
    "        accuracy = num_correct / num_examples\n",
    "        accuracies.append(accuracy)\n",
    "\n",
    "        print(f'Epoch: {epoch}, Training Loss: {training_loss:.2f}, Validation Loss: {valid_loss:.2f}, Accuracy: {accuracy:.2f}')\n",
    "\n",
    "    return train_losses, val_losses, accuracies"
   ]
  },
  {
   "cell_type": "code",
   "execution_count": 18,
   "metadata": {},
   "outputs": [
    {
     "name": "stdout",
     "output_type": "stream",
     "text": [
      "Epoch: 0, Training Loss: 0.32, Validation Loss: 0.21, Accuracy: 0.91\n",
      "Epoch: 1, Training Loss: 0.19, Validation Loss: 0.19, Accuracy: 0.91\n",
      "Epoch: 2, Training Loss: 0.14, Validation Loss: 0.17, Accuracy: 0.92\n",
      "Epoch: 3, Training Loss: 0.11, Validation Loss: 0.17, Accuracy: 0.93\n",
      "Epoch: 4, Training Loss: 0.10, Validation Loss: 0.12, Accuracy: 0.95\n",
      "Epoch: 5, Training Loss: 0.08, Validation Loss: 0.12, Accuracy: 0.95\n",
      "Epoch: 6, Training Loss: 0.06, Validation Loss: 0.12, Accuracy: 0.96\n",
      "Epoch: 7, Training Loss: 0.06, Validation Loss: 0.11, Accuracy: 0.96\n",
      "Epoch: 8, Training Loss: 0.05, Validation Loss: 0.11, Accuracy: 0.96\n",
      "Epoch: 9, Training Loss: 0.04, Validation Loss: 0.11, Accuracy: 0.96\n",
      "Epoch: 10, Training Loss: 0.04, Validation Loss: 0.10, Accuracy: 0.96\n",
      "Epoch: 11, Training Loss: 0.04, Validation Loss: 0.10, Accuracy: 0.96\n",
      "Epoch: 12, Training Loss: 0.03, Validation Loss: 0.12, Accuracy: 0.97\n",
      "Epoch: 13, Training Loss: 0.03, Validation Loss: 0.12, Accuracy: 0.97\n",
      "Epoch: 14, Training Loss: 0.02, Validation Loss: 0.11, Accuracy: 0.97\n",
      "Epoch: 15, Training Loss: 0.02, Validation Loss: 0.12, Accuracy: 0.97\n",
      "Epoch: 16, Training Loss: 0.02, Validation Loss: 0.12, Accuracy: 0.97\n",
      "Epoch: 17, Training Loss: 0.02, Validation Loss: 0.12, Accuracy: 0.97\n",
      "Epoch: 18, Training Loss: 0.01, Validation Loss: 0.12, Accuracy: 0.97\n",
      "Epoch: 19, Training Loss: 0.02, Validation Loss: 0.12, Accuracy: 0.97\n"
     ]
    }
   ],
   "source": [
    "# Train the model\n",
    "epochs = 20\n",
    "train_losses, val_losses, accuracies = train(model, optimizer, criterion, train_dataloader, val_dataloader, epochs=epochs, device=device)"
   ]
  },
  {
   "cell_type": "code",
   "execution_count": 19,
   "metadata": {},
   "outputs": [
    {
     "data": {
      "image/png": "[encoded data removed]",
      "text/plain": [
       "<Figure size 1000x500 with 2 Axes>"
      ]
     },
     "metadata": {},
     "output_type": "display_data"
    }
   ],
   "source": [
    "# Plot the training and validation loss and accuracy\n",
    "plt.figure(figsize=(10, 5))\n",
    "plt.subplot(1, 2, 1)\n",
    "plt.plot(train_losses, label='Train Loss')\n",
    "plt.plot(val_losses, label='Val Loss')\n",
    "plt.title('Loss per Epoch')\n",
    "plt.xlabel('Epoch')\n",
    "plt.ylabel('Loss')\n",
    "plt.legend()\n",
    "\n",
    "plt.subplot(1, 2, 2)\n",
    "plt.plot(accuracies, label='Accuracy')\n",
    "plt.title('Accuracy per Epoch')\n",
    "plt.xlabel('Epoch')\n",
    "plt.ylabel('Accuracy')\n",
    "plt.legend()\n",
    "\n",
    "plt.tight_layout()\n",
    "plt.show()"
   ]
  },
  {
   "cell_type": "code",
   "execution_count": 20,
   "metadata": {},
   "outputs": [],
   "source": [
    "# Save the model from the last fold\n",
    "os.makedirs(f'train_model', exist_ok=True)\n",
    "torch.save(model.state_dict(), 'train_model/vgg16_finetuned.pt')"
   ]
  },
  {
   "cell_type": "markdown",
   "metadata": {},
   "source": [
    "evaluation"
   ]
  },
  {
   "cell_type": "code",
   "execution_count": 22,
   "metadata": {},
   "outputs": [
    {
     "name": "stdout",
     "output_type": "stream",
     "text": [
      "Accuracy on test data: 0.97\n"
     ]
    }
   ],
   "source": [
    "# Evaluate on test data\n",
    "model.eval()\n",
    "outputs_np = np.empty((0), dtype=int)\n",
    "targets_np = np.empty((0), dtype=int)\n",
    "\n",
    "num_correct = 0\n",
    "num_examples = 0\n",
    "for batch in test_dataloader:\n",
    "    inputs, targets = batch\n",
    "    inputs = inputs.to(device)\n",
    "    outputs = model(inputs)\n",
    "    outputs = torch.max(F.softmax(outputs, dim=1), dim=1)[1]\n",
    "    targets = targets.to(device)\n",
    "    correct = torch.eq(outputs, targets).view(-1)\n",
    "    num_correct += torch.sum(correct).item()\n",
    "    num_examples += correct.shape[0]\n",
    "    \n",
    "    outputs_np = np.concatenate([outputs_np, outputs.cpu().numpy()], axis=None)\n",
    "    targets_np = np.concatenate([targets_np, targets.cpu().numpy()], axis=None)\n",
    "\n",
    "print(f'Accuracy on test data: {num_correct / num_examples:.2f}')\n"
   ]
  },
  {
   "cell_type": "code",
   "execution_count": 23,
   "metadata": {},
   "outputs": [],
   "source": [
    "from sklearn.metrics import confusion_matrix"
   ]
  },
  {
   "cell_type": "code",
   "execution_count": 24,
   "metadata": {},
   "outputs": [
    {
     "name": "stdout",
     "output_type": "stream",
     "text": [
      "[[ 194   17]\n",
      " [  27 1125]]\n"
     ]
    }
   ],
   "source": [
    "# Confusion matrix\n",
    "from sklearn.metrics import confusion_matrix\n",
    "cf_matrix = confusion_matrix(targets_np, outputs_np)\n",
    "print(cf_matrix)"
   ]
  },
  {
   "cell_type": "code",
   "execution_count": null,
   "metadata": {},
   "outputs": [],
   "source": []
  },
  {
   "cell_type": "code",
   "execution_count": null,
   "metadata": {},
   "outputs": [],
   "source": []
  },
  {
   "cell_type": "code",
   "execution_count": 25,
   "metadata": {},
   "outputs": [],
   "source": [
    "# Implement K-Fold Cross-Validation\n",
    "def cross_validation(model, dataset, k_folds=5, epochs=20):\n",
    "    kfold = KFold(n_splits=k_folds, shuffle=True)\n",
    "    fold_results = []\n",
    "    \n",
    "    for fold, (train_ids, val_ids) in enumerate(kfold.split(dataset)):\n",
    "        print(f'Fold {fold + 1}')\n",
    "        \n",
    "        # Create samplers for train and validation sets\n",
    "        train_sampler = torch.utils.data.SubsetRandomSampler(train_ids)\n",
    "        val_sampler = torch.utils.data.SubsetRandomSampler(val_ids)\n",
    "\n",
    "        # Create loaders\n",
    "        train_loader = torch.utils.data.DataLoader(dataset, batch_size=batch_size, sampler=train_sampler)\n",
    "        val_loader = torch.utils.data.DataLoader(dataset, batch_size=batch_size, sampler=val_sampler)\n",
    "\n",
    "        # Initialize a fresh model and optimizer for each fold\n",
    "        model = VGG16Net().to(device)\n",
    "        optimizer = optim.SGD(model.vgg16.classifier.parameters(), lr=0.001, momentum=0.9)\n",
    "\n",
    "        # Train the model\n",
    "        train_losses, val_losses, accuracies = train(\n",
    "            model, optimizer, criterion, train_loader, val_loader, epochs=epochs, device=device\n",
    "        )\n",
    "        \n",
    "        # Store results of the fold\n",
    "        fold_results.append({'train_loss': train_losses, 'val_loss': val_losses, 'accuracy': accuracies})\n",
    "    \n",
    "    return fold_results"
   ]
  },
  {
   "cell_type": "code",
   "execution_count": 26,
   "metadata": {},
   "outputs": [],
   "source": [
    "# Load the entire dataset for cross-validation\n",
    "dataset = datasets.ImageFolder(f'{data_dir}/train', transform=transform)"
   ]
  },
  {
   "cell_type": "code",
   "execution_count": 27,
   "metadata": {},
   "outputs": [],
   "source": [
    "# Define the loss function.\n",
    "criterion = nn.CrossEntropyLoss()"
   ]
  },
  {
   "cell_type": "code",
   "execution_count": 28,
   "metadata": {},
   "outputs": [
    {
     "name": "stdout",
     "output_type": "stream",
     "text": [
      "Fold 1\n"
     ]
    },
    {
     "name": "stderr",
     "output_type": "stream",
     "text": [
      "c:\\Users\\merug\\anaconda3\\envs\\cuda_test\\lib\\site-packages\\torchvision\\models\\_utils.py:208: UserWarning: The parameter 'pretrained' is deprecated since 0.13 and may be removed in the future, please use 'weights' instead.\n",
      "  warnings.warn(\n",
      "c:\\Users\\merug\\anaconda3\\envs\\cuda_test\\lib\\site-packages\\torchvision\\models\\_utils.py:223: UserWarning: Arguments other than a weight enum or `None` for 'weights' are deprecated since 0.13 and may be removed in the future. The current behavior is equivalent to passing `weights=VGG16_Weights.IMAGENET1K_V1`. You can also use `weights=VGG16_Weights.DEFAULT` to get the most up-to-date weights.\n",
      "  warnings.warn(msg)\n"
     ]
    },
    {
     "name": "stdout",
     "output_type": "stream",
     "text": [
      "Epoch: 0, Training Loss: 0.27, Validation Loss: 0.05, Accuracy: 0.89\n",
      "Epoch: 1, Training Loss: 0.15, Validation Loss: 0.04, Accuracy: 0.90\n",
      "Epoch: 2, Training Loss: 0.12, Validation Loss: 0.04, Accuracy: 0.89\n",
      "Epoch: 3, Training Loss: 0.10, Validation Loss: 0.03, Accuracy: 0.92\n",
      "Epoch: 4, Training Loss: 0.09, Validation Loss: 0.03, Accuracy: 0.93\n",
      "Epoch: 5, Training Loss: 0.07, Validation Loss: 0.03, Accuracy: 0.93\n",
      "Epoch: 6, Training Loss: 0.06, Validation Loss: 0.03, Accuracy: 0.94\n",
      "Epoch: 7, Training Loss: 0.05, Validation Loss: 0.03, Accuracy: 0.93\n",
      "Epoch: 8, Training Loss: 0.04, Validation Loss: 0.03, Accuracy: 0.93\n",
      "Epoch: 9, Training Loss: 0.03, Validation Loss: 0.03, Accuracy: 0.95\n",
      "Fold 2\n",
      "Epoch: 0, Training Loss: 0.26, Validation Loss: 0.03, Accuracy: 0.93\n",
      "Epoch: 1, Training Loss: 0.17, Validation Loss: 0.03, Accuracy: 0.95\n",
      "Epoch: 2, Training Loss: 0.13, Validation Loss: 0.02, Accuracy: 0.95\n",
      "Epoch: 3, Training Loss: 0.10, Validation Loss: 0.02, Accuracy: 0.95\n",
      "Epoch: 4, Training Loss: 0.09, Validation Loss: 0.03, Accuracy: 0.94\n",
      "Epoch: 5, Training Loss: 0.08, Validation Loss: 0.02, Accuracy: 0.96\n",
      "Epoch: 6, Training Loss: 0.06, Validation Loss: 0.02, Accuracy: 0.96\n",
      "Epoch: 7, Training Loss: 0.05, Validation Loss: 0.02, Accuracy: 0.96\n",
      "Epoch: 8, Training Loss: 0.05, Validation Loss: 0.02, Accuracy: 0.97\n",
      "Epoch: 9, Training Loss: 0.03, Validation Loss: 0.02, Accuracy: 0.97\n",
      "Fold 3\n",
      "Epoch: 0, Training Loss: 0.26, Validation Loss: 0.05, Accuracy: 0.90\n",
      "Epoch: 1, Training Loss: 0.16, Validation Loss: 0.03, Accuracy: 0.94\n",
      "Epoch: 2, Training Loss: 0.13, Validation Loss: 0.03, Accuracy: 0.95\n",
      "Epoch: 3, Training Loss: 0.10, Validation Loss: 0.03, Accuracy: 0.96\n",
      "Epoch: 4, Training Loss: 0.08, Validation Loss: 0.03, Accuracy: 0.94\n",
      "Epoch: 5, Training Loss: 0.07, Validation Loss: 0.02, Accuracy: 0.95\n",
      "Epoch: 6, Training Loss: 0.06, Validation Loss: 0.02, Accuracy: 0.95\n",
      "Epoch: 7, Training Loss: 0.05, Validation Loss: 0.02, Accuracy: 0.96\n",
      "Epoch: 8, Training Loss: 0.05, Validation Loss: 0.02, Accuracy: 0.97\n",
      "Epoch: 9, Training Loss: 0.03, Validation Loss: 0.02, Accuracy: 0.97\n",
      "Fold 4\n",
      "Epoch: 0, Training Loss: 0.28, Validation Loss: 0.04, Accuracy: 0.93\n",
      "Epoch: 1, Training Loss: 0.16, Validation Loss: 0.03, Accuracy: 0.93\n",
      "Epoch: 2, Training Loss: 0.13, Validation Loss: 0.03, Accuracy: 0.95\n",
      "Epoch: 3, Training Loss: 0.10, Validation Loss: 0.02, Accuracy: 0.94\n",
      "Epoch: 4, Training Loss: 0.09, Validation Loss: 0.02, Accuracy: 0.94\n",
      "Epoch: 5, Training Loss: 0.07, Validation Loss: 0.02, Accuracy: 0.96\n",
      "Epoch: 6, Training Loss: 0.07, Validation Loss: 0.02, Accuracy: 0.96\n",
      "Epoch: 7, Training Loss: 0.05, Validation Loss: 0.02, Accuracy: 0.97\n",
      "Epoch: 8, Training Loss: 0.05, Validation Loss: 0.02, Accuracy: 0.96\n",
      "Epoch: 9, Training Loss: 0.04, Validation Loss: 0.02, Accuracy: 0.97\n",
      "Fold 5\n",
      "Epoch: 0, Training Loss: 0.27, Validation Loss: 0.05, Accuracy: 0.90\n",
      "Epoch: 1, Training Loss: 0.16, Validation Loss: 0.04, Accuracy: 0.92\n",
      "Epoch: 2, Training Loss: 0.12, Validation Loss: 0.04, Accuracy: 0.93\n",
      "Epoch: 3, Training Loss: 0.10, Validation Loss: 0.03, Accuracy: 0.94\n",
      "Epoch: 4, Training Loss: 0.08, Validation Loss: 0.03, Accuracy: 0.94\n",
      "Epoch: 5, Training Loss: 0.07, Validation Loss: 0.03, Accuracy: 0.93\n",
      "Epoch: 6, Training Loss: 0.06, Validation Loss: 0.03, Accuracy: 0.95\n",
      "Epoch: 7, Training Loss: 0.05, Validation Loss: 0.03, Accuracy: 0.94\n",
      "Epoch: 8, Training Loss: 0.04, Validation Loss: 0.03, Accuracy: 0.96\n",
      "Epoch: 9, Training Loss: 0.04, Validation Loss: 0.03, Accuracy: 0.95\n"
     ]
    },
    {
     "data": {
      "image/png": "[encoded data removed]",
      "text/plain": [
       "<Figure size 1000x500 with 2 Axes>"
      ]
     },
     "metadata": {},
     "output_type": "display_data"
    }
   ],
   "source": [
    "# Perform cross-validation\n",
    "k_folds = 5\n",
    "cv_results = cross_validation(VGG16Net, dataset, k_folds=k_folds, epochs=10)\n",
    "\n",
    "# Plotting example for one of the folds\n",
    "fold_number = 0  # Change this to visualize different folds\n",
    "train_losses = cv_results[fold_number]['train_loss']\n",
    "val_losses = cv_results[fold_number]['val_loss']\n",
    "accuracies = cv_results[fold_number]['accuracy']\n",
    "\n",
    "plt.figure(figsize=(10, 5))\n",
    "plt.subplot(1, 2, 1)\n",
    "plt.plot(train_losses, label='Train Loss')\n",
    "plt.plot(val_losses, label='Val Loss')\n",
    "plt.title(f'Fold {fold_number + 1}: Loss per Epoch')\n",
    "plt.xlabel('Epoch')\n",
    "plt.ylabel('Loss')\n",
    "plt.legend()\n",
    "\n",
    "plt.subplot(1, 2, 2)\n",
    "plt.plot(accuracies, label='Accuracy')\n",
    "plt.title(f'Fold {fold_number + 1}: Accuracy per Epoch')\n",
    "plt.xlabel('Epoch')\n",
    "plt.ylabel('Accuracy')\n",
    "plt.legend()\n",
    "\n",
    "plt.tight_layout()\n",
    "plt.show()\n"
   ]
  },
  {
   "cell_type": "code",
   "execution_count": 29,
   "metadata": {},
   "outputs": [],
   "source": [
    "# Save the model from the last fold\n",
    "os.makedirs(f'train_model', exist_ok=True)\n",
    "torch.save(model.state_dict(), 'train_model/vgg16_finetuned.pt')"
   ]
  },
  {
   "cell_type": "code",
   "execution_count": 30,
   "metadata": {},
   "outputs": [],
   "source": [
    "# Test dataset and dataloader\n",
    "test_dataset = datasets.ImageFolder(f'{data_dir}/test', transform=transform)\n",
    "test_loader = torch.utils.data.DataLoader(test_dataset, batch_size=batch_size, shuffle=False)\n"
   ]
  },
  {
   "cell_type": "code",
   "execution_count": 31,
   "metadata": {},
   "outputs": [
    {
     "name": "stdout",
     "output_type": "stream",
     "text": [
      "Accuracy on test data: 0.97\n"
     ]
    }
   ],
   "source": [
    "# Evaluate on test data\n",
    "model.eval()\n",
    "outputs_np = np.empty((0), dtype=int)\n",
    "targets_np = np.empty((0), dtype=int)\n",
    "\n",
    "num_correct = 0\n",
    "num_examples = 0\n",
    "for batch in test_loader:\n",
    "    inputs, targets = batch\n",
    "    inputs = inputs.to(device)\n",
    "    outputs = model(inputs)\n",
    "    outputs = torch.max(F.softmax(outputs, dim=1), dim=1)[1]\n",
    "    targets = targets.to(device)\n",
    "    correct = torch.eq(outputs, targets).view(-1)\n",
    "    num_correct += torch.sum(correct).item()\n",
    "    num_examples += correct.shape[0]\n",
    "    \n",
    "    outputs_np = np.concatenate([outputs_np, outputs.cpu().numpy()], axis=None)\n",
    "    targets_np = np.concatenate([targets_np, targets.cpu().numpy()], axis=None)\n",
    "\n",
    "print(f'Accuracy on test data: {num_correct / num_examples:.2f}')"
   ]
  },
  {
   "cell_type": "code",
   "execution_count": 32,
   "metadata": {},
   "outputs": [],
   "source": [
    "from sklearn.metrics import confusion_matrix"
   ]
  },
  {
   "cell_type": "code",
   "execution_count": 33,
   "metadata": {},
   "outputs": [
    {
     "name": "stdout",
     "output_type": "stream",
     "text": [
      "[[ 194   17]\n",
      " [  27 1125]]\n"
     ]
    }
   ],
   "source": [
    "# Confusion matrix\n",
    "cf_matrix = confusion_matrix(targets_np, outputs_np)\n",
    "print(cf_matrix)"
   ]
  },
  {
   "cell_type": "markdown",
   "metadata": {},
   "source": [
    "general vgg16"
   ]
  },
  {
   "cell_type": "code",
   "execution_count": 34,
   "metadata": {},
   "outputs": [],
   "source": [
    "import torch\n",
    "import torch.nn as nn\n",
    "import torch.optim as optim\n",
    "from torchvision import models, datasets, transforms\n",
    "import torch.nn.functional as F\n",
    "from torch.utils.data import DataLoader\n",
    "from torch.cuda.amp import GradScaler, autocast\n",
    "import numpy as np\n",
    "import matplotlib.pyplot as plt\n",
    "import os"
   ]
  },
  {
   "cell_type": "code",
   "execution_count": 35,
   "metadata": {},
   "outputs": [],
   "source": [
    "# Model definition using VGG16 (general model, all layers trainable)\n",
    "class VGG16NetGeneral(nn.Module):\n",
    "    def __init__(self, out_features=2):\n",
    "        super(VGG16NetGeneral, self).__init__()\n",
    "        vgg16 = models.vgg16(pretrained=True)\n",
    "        \n",
    "        # Modify the classifier for the fall detection task\n",
    "        in_features = vgg16.classifier[6].in_features\n",
    "        vgg16.classifier[6] = nn.Linear(in_features, out_features)\n",
    "        self.vgg16 = vgg16\n",
    "\n",
    "    def forward(self, x):\n",
    "        return self.vgg16(x)\n"
   ]
  },
  {
   "cell_type": "code",
   "execution_count": 36,
   "metadata": {},
   "outputs": [
    {
     "name": "stderr",
     "output_type": "stream",
     "text": [
      "c:\\Users\\merug\\anaconda3\\envs\\cuda_test\\lib\\site-packages\\torchvision\\models\\_utils.py:208: UserWarning: The parameter 'pretrained' is deprecated since 0.13 and may be removed in the future, please use 'weights' instead.\n",
      "  warnings.warn(\n",
      "c:\\Users\\merug\\anaconda3\\envs\\cuda_test\\lib\\site-packages\\torchvision\\models\\_utils.py:223: UserWarning: Arguments other than a weight enum or `None` for 'weights' are deprecated since 0.13 and may be removed in the future. The current behavior is equivalent to passing `weights=VGG16_Weights.IMAGENET1K_V1`. You can also use `weights=VGG16_Weights.DEFAULT` to get the most up-to-date weights.\n",
      "  warnings.warn(msg)\n"
     ]
    },
    {
     "data": {
      "text/plain": [
       "VGG16NetGeneral(\n",
       "  (vgg16): VGG(\n",
       "    (features): Sequential(\n",
       "      (0): Conv2d(3, 64, kernel_size=(3, 3), stride=(1, 1), padding=(1, 1))\n",
       "      (1): ReLU(inplace=True)\n",
       "      (2): Conv2d(64, 64, kernel_size=(3, 3), stride=(1, 1), padding=(1, 1))\n",
       "      (3): ReLU(inplace=True)\n",
       "      (4): MaxPool2d(kernel_size=2, stride=2, padding=0, dilation=1, ceil_mode=False)\n",
       "      (5): Conv2d(64, 128, kernel_size=(3, 3), stride=(1, 1), padding=(1, 1))\n",
       "      (6): ReLU(inplace=True)\n",
       "      (7): Conv2d(128, 128, kernel_size=(3, 3), stride=(1, 1), padding=(1, 1))\n",
       "      (8): ReLU(inplace=True)\n",
       "      (9): MaxPool2d(kernel_size=2, stride=2, padding=0, dilation=1, ceil_mode=False)\n",
       "      (10): Conv2d(128, 256, kernel_size=(3, 3), stride=(1, 1), padding=(1, 1))\n",
       "      (11): ReLU(inplace=True)\n",
       "      (12): Conv2d(256, 256, kernel_size=(3, 3), stride=(1, 1), padding=(1, 1))\n",
       "      (13): ReLU(inplace=True)\n",
       "      (14): Conv2d(256, 256, kernel_size=(3, 3), stride=(1, 1), padding=(1, 1))\n",
       "      (15): ReLU(inplace=True)\n",
       "      (16): MaxPool2d(kernel_size=2, stride=2, padding=0, dilation=1, ceil_mode=False)\n",
       "      (17): Conv2d(256, 512, kernel_size=(3, 3), stride=(1, 1), padding=(1, 1))\n",
       "      (18): ReLU(inplace=True)\n",
       "      (19): Conv2d(512, 512, kernel_size=(3, 3), stride=(1, 1), padding=(1, 1))\n",
       "      (20): ReLU(inplace=True)\n",
       "      (21): Conv2d(512, 512, kernel_size=(3, 3), stride=(1, 1), padding=(1, 1))\n",
       "      (22): ReLU(inplace=True)\n",
       "      (23): MaxPool2d(kernel_size=2, stride=2, padding=0, dilation=1, ceil_mode=False)\n",
       "      (24): Conv2d(512, 512, kernel_size=(3, 3), stride=(1, 1), padding=(1, 1))\n",
       "      (25): ReLU(inplace=True)\n",
       "      (26): Conv2d(512, 512, kernel_size=(3, 3), stride=(1, 1), padding=(1, 1))\n",
       "      (27): ReLU(inplace=True)\n",
       "      (28): Conv2d(512, 512, kernel_size=(3, 3), stride=(1, 1), padding=(1, 1))\n",
       "      (29): ReLU(inplace=True)\n",
       "      (30): MaxPool2d(kernel_size=2, stride=2, padding=0, dilation=1, ceil_mode=False)\n",
       "    )\n",
       "    (avgpool): AdaptiveAvgPool2d(output_size=(7, 7))\n",
       "    (classifier): Sequential(\n",
       "      (0): Linear(in_features=25088, out_features=4096, bias=True)\n",
       "      (1): ReLU(inplace=True)\n",
       "      (2): Dropout(p=0.5, inplace=False)\n",
       "      (3): Linear(in_features=4096, out_features=4096, bias=True)\n",
       "      (4): ReLU(inplace=True)\n",
       "      (5): Dropout(p=0.5, inplace=False)\n",
       "      (6): Linear(in_features=4096, out_features=2, bias=True)\n",
       "    )\n",
       "  )\n",
       ")"
      ]
     },
     "execution_count": 36,
     "metadata": {},
     "output_type": "execute_result"
    }
   ],
   "source": [
    "# Initialize the VGG16 model\n",
    "model = VGG16NetGeneral(out_features=2)\n",
    "\n",
    "# Move model to GPU if available\n",
    "device = torch.device(\"cuda\" if torch.cuda.is_available() else \"cpu\")\n",
    "model.to(device)\n"
   ]
  },
  {
   "cell_type": "code",
   "execution_count": 37,
   "metadata": {},
   "outputs": [
    {
     "name": "stderr",
     "output_type": "stream",
     "text": [
      "C:\\Users\\merug\\AppData\\Local\\Temp\\ipykernel_22788\\4179050943.py:8: FutureWarning: `torch.cuda.amp.GradScaler(args...)` is deprecated. Please use `torch.amp.GradScaler('cuda', args...)` instead.\n",
      "  scaler = GradScaler()\n"
     ]
    }
   ],
   "source": [
    "\n",
    "# Define the loss function and optimizer\n",
    "criterion = nn.CrossEntropyLoss()\n",
    "\n",
    "# Use Adam optimizer for faster convergence\n",
    "optimizer = optim.Adam(model.parameters(), lr=0.0001)\n",
    "\n",
    "# Implement mixed precision training\n",
    "scaler = GradScaler()\n",
    "\n"
   ]
  },
  {
   "cell_type": "code",
   "execution_count": 38,
   "metadata": {},
   "outputs": [],
   "source": [
    "# Data directory and transformations\n",
    "data_dir = r'C:\\Users\\merug\\Downloads\\fall_detection\\fall_detection_data'\n",
    "batch_size = 16  # Reduced batch size\n",
    "\n",
    "# Data transformations (reduce image size)\n",
    "transform = transforms.Compose([\n",
    "    transforms.Resize(112),\n",
    "    transforms.CenterCrop(112),\n",
    "    transforms.ToTensor(),\n",
    "    transforms.Normalize(mean=[0.485, 0.456, 0.406], std=[0.229, 0.224, 0.225])\n",
    "])\n",
    "\n",
    "# Dataset and DataLoaders\n",
    "train_dataset = datasets.ImageFolder(f'{data_dir}/train', transform=transform)\n",
    "val_dataset = datasets.ImageFolder(f'{data_dir}/val', transform=transform)\n",
    "test_dataset = datasets.ImageFolder(f'{data_dir}/test', transform=transform)\n",
    "\n",
    "train_loader = DataLoader(train_dataset, batch_size=batch_size, shuffle=True, num_workers=4)\n",
    "val_loader = DataLoader(val_dataset, batch_size=batch_size, shuffle=False, num_workers=4)\n",
    "test_loader = DataLoader(test_dataset, batch_size=batch_size, shuffle=False, num_workers=4)\n"
   ]
  },
  {
   "cell_type": "code",
   "execution_count": 39,
   "metadata": {},
   "outputs": [],
   "source": [
    "# Early Stopping Implementation\n",
    "class EarlyStopping:\n",
    "    def __init__(self, patience=3):\n",
    "        self.patience = patience\n",
    "        self.counter = 0\n",
    "        self.best_loss = None\n",
    "\n",
    "    def check_early_stopping(self, val_loss):\n",
    "        if self.best_loss is None or val_loss < self.best_loss:\n",
    "            self.best_loss = val_loss\n",
    "            self.counter = 0\n",
    "        else:\n",
    "            self.counter += 1\n",
    "        return self.counter >= self.patience\n",
    "\n",
    "early_stopping = EarlyStopping(patience=3)"
   ]
  },
  {
   "cell_type": "code",
   "execution_count": 40,
   "metadata": {},
   "outputs": [],
   "source": [
    "# Learning Rate Scheduler\n",
    "scheduler = optim.lr_scheduler.ReduceLROnPlateau(optimizer, mode='min', patience=2)\n",
    "\n",
    "# Training function with mixed precision and early stopping\n",
    "def train(model, optimizer, loss_fn, train_loader, val_loader, epochs=20, device=\"cpu\"):\n",
    "    train_losses = []\n",
    "    val_losses = []\n",
    "    accuracies = []\n",
    "    \n",
    "    for epoch in range(epochs):\n",
    "        model.train()\n",
    "        training_loss = 0.0\n",
    "\n",
    "        for batch in train_loader:\n",
    "            inputs, targets = batch\n",
    "            inputs, targets = inputs.to(device), targets.to(device)\n",
    "\n",
    "            optimizer.zero_grad()\n",
    "            with autocast():\n",
    "                outputs = model(inputs)\n",
    "                loss = loss_fn(outputs, targets)\n",
    "\n",
    "            scaler.scale(loss).backward()\n",
    "            scaler.step(optimizer)\n",
    "            scaler.update()\n",
    "\n",
    "            training_loss += loss.item() * inputs.size(0)\n",
    "\n",
    "        training_loss /= len(train_loader.dataset)\n",
    "        train_losses.append(training_loss)\n",
    "\n",
    "        # Validation phase\n",
    "        model.eval()\n",
    "        valid_loss = 0.0\n",
    "        num_correct = 0\n",
    "        num_examples = 0\n",
    "\n",
    "        with torch.no_grad():\n",
    "            for batch in val_loader:\n",
    "                inputs, targets = batch\n",
    "                inputs, targets = inputs.to(device), targets.to(device)\n",
    "\n",
    "                with autocast():\n",
    "                    outputs = model(inputs)\n",
    "                    loss = loss_fn(outputs, targets)\n",
    "\n",
    "                valid_loss += loss.item() * inputs.size(0)\n",
    "                correct = torch.eq(torch.max(outputs, dim=1)[1], targets).view(-1)\n",
    "                num_correct += torch.sum(correct).item()\n",
    "                num_examples += correct.shape[0]\n",
    "\n",
    "        valid_loss /= len(val_loader.dataset)\n",
    "        val_losses.append(valid_loss)\n",
    "        accuracy = num_correct / num_examples\n",
    "        accuracies.append(accuracy)\n",
    "\n",
    "        print(f'Epoch {epoch+1}, Train Loss: {training_loss:.4f}, Val Loss: {valid_loss:.4f}, Accuracy: {accuracy:.4f}')\n",
    "\n",
    "        # Adjust learning rate\n",
    "        scheduler.step(valid_loss)\n",
    "\n",
    "        # Early stopping\n",
    "        if early_stopping.check_early_stopping(valid_loss):\n",
    "            print(\"Early stopping triggered\")\n",
    "            break\n",
    "\n",
    "    return train_losses, val_losses, accuracies"
   ]
  },
  {
   "cell_type": "code",
   "execution_count": 41,
   "metadata": {},
   "outputs": [
    {
     "name": "stderr",
     "output_type": "stream",
     "text": [
      "C:\\Users\\merug\\AppData\\Local\\Temp\\ipykernel_22788\\1314050876.py:19: FutureWarning: `torch.cuda.amp.autocast(args...)` is deprecated. Please use `torch.amp.autocast('cuda', args...)` instead.\n",
      "  with autocast():\n",
      "C:\\Users\\merug\\AppData\\Local\\Temp\\ipykernel_22788\\1314050876.py:43: FutureWarning: `torch.cuda.amp.autocast(args...)` is deprecated. Please use `torch.amp.autocast('cuda', args...)` instead.\n",
      "  with autocast():\n"
     ]
    },
    {
     "name": "stdout",
     "output_type": "stream",
     "text": [
      "Epoch 1, Train Loss: 0.2784, Val Loss: 0.1978, Accuracy: 0.9121\n",
      "Epoch 2, Train Loss: 0.1990, Val Loss: 0.1947, Accuracy: 0.9160\n",
      "Epoch 3, Train Loss: 0.1290, Val Loss: 0.2029, Accuracy: 0.9445\n",
      "Epoch 4, Train Loss: 0.0757, Val Loss: 0.1394, Accuracy: 0.9715\n",
      "Epoch 5, Train Loss: 0.0501, Val Loss: 0.1977, Accuracy: 0.9375\n",
      "Epoch 6, Train Loss: 0.0414, Val Loss: 0.1632, Accuracy: 0.9699\n",
      "Epoch 7, Train Loss: 0.0432, Val Loss: 0.3002, Accuracy: 0.9391\n",
      "Early stopping triggered\n"
     ]
    }
   ],
   "source": [
    "# Train the model\n",
    "train_losses, val_losses, accuracies = train(model, optimizer, criterion, train_loader, val_loader, epochs=20, device=device)"
   ]
  },
  {
   "cell_type": "code",
   "execution_count": 42,
   "metadata": {},
   "outputs": [
    {
     "data": {
      "text/plain": [
       "<matplotlib.legend.Legend at 0x17abce6aac0>"
      ]
     },
     "execution_count": 42,
     "metadata": {},
     "output_type": "execute_result"
    },
    {
     "data": {
      "image/png": "[encoded data removed]",
      "text/plain": [
       "<Figure size 1200x500 with 1 Axes>"
      ]
     },
     "metadata": {},
     "output_type": "display_data"
    }
   ],
   "source": [
    "\n",
    "# Plotting Training & Validation Loss and Accuracy\n",
    "plt.figure(figsize=(12, 5))\n",
    "plt.subplot(1, 2, 1)\n",
    "plt.plot(train_losses, label='Train Loss')\n",
    "plt.plot(val_losses, label='Val Loss')\n",
    "plt.title('Loss per Epoch')\n",
    "plt.xlabel('Epoch')\n",
    "plt.ylabel('Loss')\n",
    "plt.legend()\n"
   ]
  },
  {
   "cell_type": "code",
   "execution_count": 43,
   "metadata": {},
   "outputs": [
    {
     "data": {
      "image/png": "[encoded data removed]",
      "text/plain": [
       "<Figure size 640x480 with 1 Axes>"
      ]
     },
     "metadata": {},
     "output_type": "display_data"
    }
   ],
   "source": [
    "plt.subplot(1, 2, 2)\n",
    "plt.plot(accuracies, label='Validation Accuracy')\n",
    "plt.title('Accuracy per Epoch')\n",
    "plt.xlabel('Epoch')\n",
    "plt.ylabel('Accuracy')\n",
    "plt.legend()\n",
    "\n",
    "plt.tight_layout()\n",
    "plt.show()\n"
   ]
  },
  {
   "cell_type": "code",
   "execution_count": 44,
   "metadata": {},
   "outputs": [],
   "source": [
    "# Evaluate on test data\n",
    "def test(model, test_loader, device):\n",
    "    model.eval()\n",
    "    num_correct = 0\n",
    "    num_examples = 0\n",
    "    outputs_np, targets_np = np.empty((0), dtype=int), np.empty((0), dtype=int)\n",
    "\n",
    "    with torch.no_grad():\n",
    "        for batch in test_loader:\n",
    "            inputs, targets = batch\n",
    "            inputs, targets = inputs.to(device), targets.to(device)\n",
    "\n",
    "            with autocast():\n",
    "                outputs = model(inputs)\n",
    "            outputs = torch.max(outputs, dim=1)[1]\n",
    "\n",
    "            correct = torch.eq(outputs, targets).view(-1)\n",
    "            num_correct += torch.sum(correct).item()\n",
    "            num_examples += correct.shape[0]\n",
    "\n",
    "            outputs_np = np.concatenate([outputs_np, outputs.cpu().numpy()], axis=None)\n",
    "            targets_np = np.concatenate([targets_np, targets.cpu().numpy()], axis=None)\n",
    "\n",
    "    accuracy = num_correct / num_examples\n",
    "    print(f'Accuracy on test data: {accuracy:.4f}')\n",
    "    return outputs_np, targets_np"
   ]
  },
  {
   "cell_type": "code",
   "execution_count": 45,
   "metadata": {},
   "outputs": [
    {
     "name": "stderr",
     "output_type": "stream",
     "text": [
      "C:\\Users\\merug\\AppData\\Local\\Temp\\ipykernel_22788\\2612479398.py:13: FutureWarning: `torch.cuda.amp.autocast(args...)` is deprecated. Please use `torch.amp.autocast('cuda', args...)` instead.\n",
      "  with autocast():\n"
     ]
    },
    {
     "name": "stdout",
     "output_type": "stream",
     "text": [
      "Accuracy on test data: 0.9193\n"
     ]
    }
   ],
   "source": [
    "\n",
    "# Evaluate the model on the test set\n",
    "outputs_np, targets_np = test(model, test_loader, device)"
   ]
  },
  {
   "cell_type": "code",
   "execution_count": 46,
   "metadata": {},
   "outputs": [
    {
     "name": "stdout",
     "output_type": "stream",
     "text": [
      "Confusion Matrix:\n",
      "[[ 210    1]\n",
      " [ 109 1043]]\n"
     ]
    }
   ],
   "source": [
    "# Confusion Matrix\n",
    "from sklearn.metrics import confusion_matrix\n",
    "cf_matrix = confusion_matrix(targets_np, outputs_np)\n",
    "print(\"Confusion Matrix:\")\n",
    "print(cf_matrix)"
   ]
  },
  {
   "cell_type": "code",
   "execution_count": 47,
   "metadata": {},
   "outputs": [],
   "source": [
    "# Save the model from the last fold\n",
    "os.makedirs(f'train_model', exist_ok=True)\n",
    "torch.save(model.state_dict(), 'train_model/vgg16.pt')"
   ]
  },
  {
   "cell_type": "code",
   "execution_count": 48,
   "metadata": {},
   "outputs": [
    {
     "name": "stdout",
     "output_type": "stream",
     "text": [
      "Precision: 0.9990\n"
     ]
    }
   ],
   "source": [
    "from sklearn.metrics import precision_score\n",
    "precision = precision_score(targets_np, outputs_np)\n",
    "print(f'Precision: {precision:.4f}')\n"
   ]
  },
  {
   "cell_type": "code",
   "execution_count": 49,
   "metadata": {},
   "outputs": [
    {
     "name": "stdout",
     "output_type": "stream",
     "text": [
      "Recall: 0.9054\n"
     ]
    }
   ],
   "source": [
    "from sklearn.metrics import recall_score\n",
    "recall = recall_score(targets_np, outputs_np)\n",
    "print(f'Recall: {recall:.4f}')\n"
   ]
  },
  {
   "cell_type": "code",
   "execution_count": 50,
   "metadata": {},
   "outputs": [
    {
     "name": "stdout",
     "output_type": "stream",
     "text": [
      "F1-Score: 0.9499\n"
     ]
    }
   ],
   "source": [
    "from sklearn.metrics import f1_score\n",
    "f1 = f1_score(targets_np, outputs_np)\n",
    "print(f'F1-Score: {f1:.4f}')\n"
   ]
  },
  {
   "cell_type": "code",
   "execution_count": 51,
   "metadata": {},
   "outputs": [
    {
     "name": "stdout",
     "output_type": "stream",
     "text": [
      "AUC: 0.9503\n"
     ]
    }
   ],
   "source": [
    "from sklearn.metrics import roc_auc_score\n",
    "auc = roc_auc_score(targets_np, outputs_np)\n",
    "print(f'AUC: {auc:.4f}')\n"
   ]
  },
  {
   "cell_type": "code",
   "execution_count": 52,
   "metadata": {},
   "outputs": [
    {
     "name": "stdout",
     "output_type": "stream",
     "text": [
      "AUC: 0.9503\n"
     ]
    }
   ],
   "source": [
    "from sklearn.metrics import roc_auc_score\n",
    "auc = roc_auc_score(targets_np, outputs_np)\n",
    "print(f'AUC: {auc:.4f}')\n"
   ]
  },
  {
   "cell_type": "code",
   "execution_count": 53,
   "metadata": {},
   "outputs": [
    {
     "name": "stderr",
     "output_type": "stream",
     "text": [
      "c:\\Users\\merug\\anaconda3\\envs\\cuda_test\\lib\\site-packages\\torchvision\\models\\_utils.py:208: UserWarning: The parameter 'pretrained' is deprecated since 0.13 and may be removed in the future, please use 'weights' instead.\n",
      "  warnings.warn(\n",
      "c:\\Users\\merug\\anaconda3\\envs\\cuda_test\\lib\\site-packages\\torchvision\\models\\_utils.py:223: UserWarning: Arguments other than a weight enum or `None` for 'weights' are deprecated since 0.13 and may be removed in the future. The current behavior is equivalent to passing `weights=VGG16_Weights.IMAGENET1K_V1`. You can also use `weights=VGG16_Weights.DEFAULT` to get the most up-to-date weights.\n",
      "  warnings.warn(msg)\n",
      "C:\\Users\\merug\\AppData\\Local\\Temp\\ipykernel_22788\\2946554566.py:6: FutureWarning: You are using `torch.load` with `weights_only=False` (the current default value), which uses the default pickle module implicitly. It is possible to construct malicious pickle data which will execute arbitrary code during unpickling (See https://github.com/pytorch/pytorch/blob/main/SECURITY.md#untrusted-models for more details). In a future release, the default value for `weights_only` will be flipped to `True`. This limits the functions that could be executed during unpickling. Arbitrary objects will no longer be allowed to be loaded via this mode unless they are explicitly allowlisted by the user via `torch.serialization.add_safe_globals`. We recommend you start setting `weights_only=True` for any use case where you don't have full control of the loaded file. Please open an issue on GitHub for any issues related to this experimental feature.\n",
      "  model.load_state_dict(torch.load(model_path))\n"
     ]
    },
    {
     "data": {
      "text/plain": [
       "VGG16NetGeneral(\n",
       "  (vgg16): VGG(\n",
       "    (features): Sequential(\n",
       "      (0): Conv2d(3, 64, kernel_size=(3, 3), stride=(1, 1), padding=(1, 1))\n",
       "      (1): ReLU(inplace=True)\n",
       "      (2): Conv2d(64, 64, kernel_size=(3, 3), stride=(1, 1), padding=(1, 1))\n",
       "      (3): ReLU(inplace=True)\n",
       "      (4): MaxPool2d(kernel_size=2, stride=2, padding=0, dilation=1, ceil_mode=False)\n",
       "      (5): Conv2d(64, 128, kernel_size=(3, 3), stride=(1, 1), padding=(1, 1))\n",
       "      (6): ReLU(inplace=True)\n",
       "      (7): Conv2d(128, 128, kernel_size=(3, 3), stride=(1, 1), padding=(1, 1))\n",
       "      (8): ReLU(inplace=True)\n",
       "      (9): MaxPool2d(kernel_size=2, stride=2, padding=0, dilation=1, ceil_mode=False)\n",
       "      (10): Conv2d(128, 256, kernel_size=(3, 3), stride=(1, 1), padding=(1, 1))\n",
       "      (11): ReLU(inplace=True)\n",
       "      (12): Conv2d(256, 256, kernel_size=(3, 3), stride=(1, 1), padding=(1, 1))\n",
       "      (13): ReLU(inplace=True)\n",
       "      (14): Conv2d(256, 256, kernel_size=(3, 3), stride=(1, 1), padding=(1, 1))\n",
       "      (15): ReLU(inplace=True)\n",
       "      (16): MaxPool2d(kernel_size=2, stride=2, padding=0, dilation=1, ceil_mode=False)\n",
       "      (17): Conv2d(256, 512, kernel_size=(3, 3), stride=(1, 1), padding=(1, 1))\n",
       "      (18): ReLU(inplace=True)\n",
       "      (19): Conv2d(512, 512, kernel_size=(3, 3), stride=(1, 1), padding=(1, 1))\n",
       "      (20): ReLU(inplace=True)\n",
       "      (21): Conv2d(512, 512, kernel_size=(3, 3), stride=(1, 1), padding=(1, 1))\n",
       "      (22): ReLU(inplace=True)\n",
       "      (23): MaxPool2d(kernel_size=2, stride=2, padding=0, dilation=1, ceil_mode=False)\n",
       "      (24): Conv2d(512, 512, kernel_size=(3, 3), stride=(1, 1), padding=(1, 1))\n",
       "      (25): ReLU(inplace=True)\n",
       "      (26): Conv2d(512, 512, kernel_size=(3, 3), stride=(1, 1), padding=(1, 1))\n",
       "      (27): ReLU(inplace=True)\n",
       "      (28): Conv2d(512, 512, kernel_size=(3, 3), stride=(1, 1), padding=(1, 1))\n",
       "      (29): ReLU(inplace=True)\n",
       "      (30): MaxPool2d(kernel_size=2, stride=2, padding=0, dilation=1, ceil_mode=False)\n",
       "    )\n",
       "    (avgpool): AdaptiveAvgPool2d(output_size=(7, 7))\n",
       "    (classifier): Sequential(\n",
       "      (0): Linear(in_features=25088, out_features=4096, bias=True)\n",
       "      (1): ReLU(inplace=True)\n",
       "      (2): Dropout(p=0.5, inplace=False)\n",
       "      (3): Linear(in_features=4096, out_features=4096, bias=True)\n",
       "      (4): ReLU(inplace=True)\n",
       "      (5): Dropout(p=0.5, inplace=False)\n",
       "      (6): Linear(in_features=4096, out_features=2, bias=True)\n",
       "    )\n",
       "  )\n",
       ")"
      ]
     },
     "execution_count": 53,
     "metadata": {},
     "output_type": "execute_result"
    }
   ],
   "source": [
    "# Initialize the model\n",
    "model = VGG16NetGeneral(out_features=2)  # Make sure to initialize the model properly\n",
    "\n",
    "# Load the saved model weights\n",
    "model_path = 'train_model/vgg16.pt'\n",
    "model.load_state_dict(torch.load(model_path))\n",
    "\n",
    "# Set the model to evaluation mode\n",
    "model.eval()  # This disables layers like dropout and batchnorm from updating during inference\n"
   ]
  },
  {
   "cell_type": "code",
   "execution_count": 54,
   "metadata": {},
   "outputs": [
    {
     "name": "stdout",
     "output_type": "stream",
     "text": [
      "Precision: 0.9990\n"
     ]
    }
   ],
   "source": [
    "from sklearn.metrics import precision_score\n",
    "precision = precision_score(targets_np, outputs_np)\n",
    "print(f'Precision: {precision:.4f}')\n"
   ]
  },
  {
   "cell_type": "code",
   "execution_count": 55,
   "metadata": {},
   "outputs": [
    {
     "name": "stdout",
     "output_type": "stream",
     "text": [
      "Recall: 0.9054\n"
     ]
    }
   ],
   "source": [
    "from sklearn.metrics import recall_score\n",
    "recall = recall_score(targets_np, outputs_np)\n",
    "print(f'Recall: {recall:.4f}')\n"
   ]
  },
  {
   "cell_type": "code",
   "execution_count": 56,
   "metadata": {},
   "outputs": [
    {
     "name": "stdout",
     "output_type": "stream",
     "text": [
      "F1-Score: 0.9499\n"
     ]
    }
   ],
   "source": [
    "from sklearn.metrics import f1_score\n",
    "f1 = f1_score(targets_np, outputs_np)\n",
    "print(f'F1-Score: {f1:.4f}')\n"
   ]
  },
  {
   "cell_type": "code",
   "execution_count": 57,
   "metadata": {},
   "outputs": [
    {
     "name": "stdout",
     "output_type": "stream",
     "text": [
      "AUC: 0.9503\n"
     ]
    }
   ],
   "source": [
    "from sklearn.metrics import roc_auc_score\n",
    "auc = roc_auc_score(targets_np, outputs_np)\n",
    "print(f'AUC: {auc:.4f}')\n"
   ]
  },
  {
   "cell_type": "code",
   "execution_count": 58,
   "metadata": {},
   "outputs": [
    {
     "data": {
      "image/png": "[encoded data removed]",
      "text/plain": [
       "<Figure size 640x480 with 1 Axes>"
      ]
     },
     "metadata": {},
     "output_type": "display_data"
    }
   ],
   "source": [
    "from sklearn.metrics import precision_recall_curve\n",
    "precision, recall, _ = precision_recall_curve(targets_np, outputs_np)\n",
    "plt.plot(recall, precision)\n",
    "plt.title('Precision-Recall Curve')\n",
    "plt.xlabel('Recall')\n",
    "plt.ylabel('Precision')\n",
    "plt.show()\n"
   ]
  },
  {
   "cell_type": "markdown",
   "metadata": {},
   "source": [
    "laod fine tuned model"
   ]
  },
  {
   "cell_type": "code",
   "execution_count": 59,
   "metadata": {},
   "outputs": [
    {
     "name": "stderr",
     "output_type": "stream",
     "text": [
      "c:\\Users\\merug\\anaconda3\\envs\\cuda_test\\lib\\site-packages\\torchvision\\models\\_utils.py:208: UserWarning: The parameter 'pretrained' is deprecated since 0.13 and may be removed in the future, please use 'weights' instead.\n",
      "  warnings.warn(\n",
      "c:\\Users\\merug\\anaconda3\\envs\\cuda_test\\lib\\site-packages\\torchvision\\models\\_utils.py:223: UserWarning: Arguments other than a weight enum or `None` for 'weights' are deprecated since 0.13 and may be removed in the future. The current behavior is equivalent to passing `weights=VGG16_Weights.IMAGENET1K_V1`. You can also use `weights=VGG16_Weights.DEFAULT` to get the most up-to-date weights.\n",
      "  warnings.warn(msg)\n",
      "C:\\Users\\merug\\AppData\\Local\\Temp\\ipykernel_22788\\3201923539.py:6: FutureWarning: You are using `torch.load` with `weights_only=False` (the current default value), which uses the default pickle module implicitly. It is possible to construct malicious pickle data which will execute arbitrary code during unpickling (See https://github.com/pytorch/pytorch/blob/main/SECURITY.md#untrusted-models for more details). In a future release, the default value for `weights_only` will be flipped to `True`. This limits the functions that could be executed during unpickling. Arbitrary objects will no longer be allowed to be loaded via this mode unless they are explicitly allowlisted by the user via `torch.serialization.add_safe_globals`. We recommend you start setting `weights_only=True` for any use case where you don't have full control of the loaded file. Please open an issue on GitHub for any issues related to this experimental feature.\n",
      "  model.load_state_dict(torch.load(model_path))\n"
     ]
    },
    {
     "data": {
      "text/plain": [
       "VGG16Net(\n",
       "  (vgg16): VGG(\n",
       "    (features): Sequential(\n",
       "      (0): Conv2d(3, 64, kernel_size=(3, 3), stride=(1, 1), padding=(1, 1))\n",
       "      (1): ReLU(inplace=True)\n",
       "      (2): Conv2d(64, 64, kernel_size=(3, 3), stride=(1, 1), padding=(1, 1))\n",
       "      (3): ReLU(inplace=True)\n",
       "      (4): MaxPool2d(kernel_size=2, stride=2, padding=0, dilation=1, ceil_mode=False)\n",
       "      (5): Conv2d(64, 128, kernel_size=(3, 3), stride=(1, 1), padding=(1, 1))\n",
       "      (6): ReLU(inplace=True)\n",
       "      (7): Conv2d(128, 128, kernel_size=(3, 3), stride=(1, 1), padding=(1, 1))\n",
       "      (8): ReLU(inplace=True)\n",
       "      (9): MaxPool2d(kernel_size=2, stride=2, padding=0, dilation=1, ceil_mode=False)\n",
       "      (10): Conv2d(128, 256, kernel_size=(3, 3), stride=(1, 1), padding=(1, 1))\n",
       "      (11): ReLU(inplace=True)\n",
       "      (12): Conv2d(256, 256, kernel_size=(3, 3), stride=(1, 1), padding=(1, 1))\n",
       "      (13): ReLU(inplace=True)\n",
       "      (14): Conv2d(256, 256, kernel_size=(3, 3), stride=(1, 1), padding=(1, 1))\n",
       "      (15): ReLU(inplace=True)\n",
       "      (16): MaxPool2d(kernel_size=2, stride=2, padding=0, dilation=1, ceil_mode=False)\n",
       "      (17): Conv2d(256, 512, kernel_size=(3, 3), stride=(1, 1), padding=(1, 1))\n",
       "      (18): ReLU(inplace=True)\n",
       "      (19): Conv2d(512, 512, kernel_size=(3, 3), stride=(1, 1), padding=(1, 1))\n",
       "      (20): ReLU(inplace=True)\n",
       "      (21): Conv2d(512, 512, kernel_size=(3, 3), stride=(1, 1), padding=(1, 1))\n",
       "      (22): ReLU(inplace=True)\n",
       "      (23): MaxPool2d(kernel_size=2, stride=2, padding=0, dilation=1, ceil_mode=False)\n",
       "      (24): Conv2d(512, 512, kernel_size=(3, 3), stride=(1, 1), padding=(1, 1))\n",
       "      (25): ReLU(inplace=True)\n",
       "      (26): Conv2d(512, 512, kernel_size=(3, 3), stride=(1, 1), padding=(1, 1))\n",
       "      (27): ReLU(inplace=True)\n",
       "      (28): Conv2d(512, 512, kernel_size=(3, 3), stride=(1, 1), padding=(1, 1))\n",
       "      (29): ReLU(inplace=True)\n",
       "      (30): MaxPool2d(kernel_size=2, stride=2, padding=0, dilation=1, ceil_mode=False)\n",
       "    )\n",
       "    (avgpool): AdaptiveAvgPool2d(output_size=(7, 7))\n",
       "    (classifier): Sequential(\n",
       "      (0): Linear(in_features=25088, out_features=4096, bias=True)\n",
       "      (1): ReLU(inplace=True)\n",
       "      (2): Dropout(p=0.5, inplace=False)\n",
       "      (3): Linear(in_features=4096, out_features=4096, bias=True)\n",
       "      (4): ReLU(inplace=True)\n",
       "      (5): Dropout(p=0.5, inplace=False)\n",
       "      (6): Linear(in_features=4096, out_features=2, bias=True)\n",
       "    )\n",
       "  )\n",
       ")"
      ]
     },
     "execution_count": 59,
     "metadata": {},
     "output_type": "execute_result"
    }
   ],
   "source": [
    "# Initialize the model\n",
    "model = VGG16Net(out_features=2)  # Make sure to initialize the model properly\n",
    "\n",
    "# Load the saved model weights\n",
    "model_path = 'train_model/vgg16_finetuned.pt'\n",
    "model.load_state_dict(torch.load(model_path))\n",
    "\n",
    "# Set the model to evaluation mode\n",
    "model.eval()  # This disables layers like dropout and batchnorm from updating during inference\n"
   ]
  },
  {
   "cell_type": "code",
   "execution_count": 60,
   "metadata": {},
   "outputs": [
    {
     "name": "stdout",
     "output_type": "stream",
     "text": [
      "Precision: 0.9990\n"
     ]
    }
   ],
   "source": [
    "from sklearn.metrics import precision_score\n",
    "precision = precision_score(targets_np, outputs_np)\n",
    "print(f'Precision: {precision:.4f}')\n"
   ]
  },
  {
   "cell_type": "code",
   "execution_count": 61,
   "metadata": {},
   "outputs": [
    {
     "name": "stdout",
     "output_type": "stream",
     "text": [
      "Recall: 0.9054\n"
     ]
    }
   ],
   "source": [
    "from sklearn.metrics import recall_score\n",
    "recall = recall_score(targets_np, outputs_np)\n",
    "print(f'Recall: {recall:.4f}')\n"
   ]
  },
  {
   "cell_type": "code",
   "execution_count": 62,
   "metadata": {},
   "outputs": [
    {
     "name": "stdout",
     "output_type": "stream",
     "text": [
      "F1-Score: 0.9499\n"
     ]
    }
   ],
   "source": [
    "from sklearn.metrics import f1_score\n",
    "f1 = f1_score(targets_np, outputs_np)\n",
    "print(f'F1-Score: {f1:.4f}')\n"
   ]
  },
  {
   "cell_type": "code",
   "execution_count": 63,
   "metadata": {},
   "outputs": [
    {
     "name": "stdout",
     "output_type": "stream",
     "text": [
      "AUC: 0.9503\n"
     ]
    }
   ],
   "source": [
    "from sklearn.metrics import roc_auc_score\n",
    "auc = roc_auc_score(targets_np, outputs_np)\n",
    "print(f'AUC: {auc:.4f}')\n"
   ]
  },
  {
   "cell_type": "code",
   "execution_count": 64,
   "metadata": {},
   "outputs": [
    {
     "data": {
      "image/png": "[encoded data removed]",
      "text/plain": [
       "<Figure size 640x480 with 1 Axes>"
      ]
     },
     "metadata": {},
     "output_type": "display_data"
    }
   ],
   "source": [
    "from sklearn.metrics import precision_recall_curve\n",
    "precision, recall, _ = precision_recall_curve(targets_np, outputs_np)\n",
    "plt.plot(recall, precision)\n",
    "plt.title('Precision-Recall Curve')\n",
    "plt.xlabel('Recall')\n",
    "plt.ylabel('Precision')\n",
    "plt.show()\n"
   ]
  },
  {
   "cell_type": "code",
   "execution_count": null,
   "metadata": {},
   "outputs": [],
   "source": []
  },
  {
   "cell_type": "code",
   "execution_count": null,
   "metadata": {},
   "outputs": [],
   "source": []
  }
 ],
 "metadata": {
  "kernelspec": {
   "display_name": "cuda_test",
   "language": "python",
   "name": "python3"
  },
  "language_info": {
   "codemirror_mode": {
    "name": "ipython",
    "version": 3
   },
   "file_extension": ".py",
   "mimetype": "text/x-python",
   "name": "python",
   "nbconvert_exporter": "python",
   "pygments_lexer": "ipython3",
   "version": "3.8.19"
  }
 },
 "nbformat": 4,
 "nbformat_minor": 2
}
